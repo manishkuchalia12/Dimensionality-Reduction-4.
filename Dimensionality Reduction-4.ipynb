{
 "cells": [
  {
   "cell_type": "markdown",
   "id": "76f1cb27-6743-413f-8063-8e512377efe7",
   "metadata": {},
   "source": [
    "Objective:\n",
    "The objective of this assignment is to implement PCA on a given dataset and analyse the results.\n",
    "\n",
    "Deliverables:\n",
    "Jupyter notebook containing the code for the PCA implementation.\n",
    "A report summarising the results of PCA and clustering analysis.\n",
    "Scatter plot showing the results of PCA.\n",
    "A table showing the performance metrics for the clustering algorithm.\n",
    "Additional Information:\n",
    "You can use the python programming language.\n",
    "You can use any other machine learning libraries or tools as necessary.\n",
    "You can use any visualisation libraries or tools as necessary.\n",
    "Instructions:\n",
    "Download the wine dataset from the UCI Machine Learning Repository\n",
    "Load the dataset into a Pandas dataframe.\n",
    "Split the dataset into features and target variables.\n",
    "Perform data preprocessing (e.g., scaling, normalisation, missing value imputation) as necessary.\n",
    "Implement PCA on the preprocessed dataset using the scikit-learn library.\n",
    "Determine the optimal number of principal components to retain based on the explained variance ratio.\n",
    "Visualise the results of PCA using a scatter plot.\n",
    "Perform clustering on the PCA-transformed data using K-Means clustering algorithm.\n",
    "Interpret the results of PCA and clustering analysis.\n",
    "(https://archive.ics.uci.edu/ml/datasets/Wine).\n",
    "Ans:-Certainly, I can guide you on how to approach this assignment. Below is a step-by-step guide along with sample code snippets. Please note that you may need to install necessary libraries like pandas, scikit-learn, matplotlib, and seaborn."
   ]
  },
  {
   "cell_type": "code",
   "execution_count": null,
   "id": "53ee6daa-bac3-440d-8025-0c76a280d16a",
   "metadata": {},
   "outputs": [],
   "source": [
    "import pandas as pd\n",
    "\n",
    "# Download the dataset\n",
    "url = \"https://archive.ics.uci.edu/ml/machine-learning-databases/wine/wine.data\"\n",
    "column_names = [\"Class\", \"Alcohol\", \"Malic acid\", \"Ash\", \"Alcalinity of ash\", \"Magnesium\", \"Total phenols\", \"Flavanoids\", \"Nonflavanoid phenols\", \"Proanthocyanins\", \"Color intensity\", \"Hue\", \"OD280/OD315 of diluted wines\", \"Proline\"]\n",
    "\n",
    "# Load the dataset into a Pandas DataFrame\n",
    "wine_df = pd.read_csv(url, header=None, names=column_names)\n",
    "\n",
    "# Display the first few rows of the dataset\n",
    "print(wine_df.head())\n"
   ]
  },
  {
   "cell_type": "code",
   "execution_count": null,
   "id": "482a59ef-8f0b-4543-90bc-36dc55ff290a",
   "metadata": {},
   "outputs": [],
   "source": [
    "from sklearn.preprocessing import StandardScaler\n",
    "\n",
    "# Split the dataset into features and target variables\n",
    "X = wine_df.drop(\"Class\", axis=1)\n",
    "y = wine_df[\"Class\"]\n",
    "\n",
    "# Standardize the features (scaling)\n",
    "scaler = StandardScaler()\n",
    "X_scaled = scaler.fit_transform(X)\n",
    "\n",
    "# Display the scaled features\n",
    "print(pd.DataFrame(X_scaled, columns=X.columns).head())\n"
   ]
  },
  {
   "cell_type": "code",
   "execution_count": null,
   "id": "db96f1cc-e856-43c8-83d2-85fcac5891ee",
   "metadata": {},
   "outputs": [],
   "source": [
    "from sklearn.decomposition import PCA\n",
    "\n",
    "# Implement PCA\n",
    "pca = PCA()\n",
    "X_pca = pca.fit_transform(X_scaled)\n",
    "\n",
    "# Display the explained variance ratio for each principal component\n",
    "print(\"Explained Variance Ratio:\")\n",
    "print(pca.explained_variance_ratio_)\n"
   ]
  },
  {
   "cell_type": "code",
   "execution_count": null,
   "id": "29cff72e-8c69-4343-b6a5-747cb023abbe",
   "metadata": {},
   "outputs": [],
   "source": [
    "import matplotlib.pyplot as plt\n",
    "\n",
    "# Plot the cumulative explained variance ratio\n",
    "cumulative_variance_ratio = pca.explained_variance_ratio_.cumsum()\n",
    "plt.plot(range(1, len(cumulative_variance_ratio) + 1), cumulative_variance_ratio, marker='o')\n",
    "plt.xlabel('Number of Principal Components')\n",
    "plt.ylabel('Cumulative Explained Variance Ratio')\n",
    "plt.show()\n"
   ]
  },
  {
   "cell_type": "code",
   "execution_count": null,
   "id": "f847f67a-c2af-48bd-bbfb-7d9307067a67",
   "metadata": {},
   "outputs": [],
   "source": [
    "# Scatter plot of the first two principal components\n",
    "plt.scatter(X_pca[:, 0], X_pca[:, 1], c=y, cmap='viridis', edgecolor='k', s=50)\n",
    "plt.xlabel('Principal Component 1')\n",
    "plt.ylabel('Principal Component 2')\n",
    "plt.title('PCA - Wine Dataset')\n",
    "plt.show()\n"
   ]
  }
 ],
 "metadata": {
  "kernelspec": {
   "display_name": "Python 3 (ipykernel)",
   "language": "python",
   "name": "python3"
  },
  "language_info": {
   "codemirror_mode": {
    "name": "ipython",
    "version": 3
   },
   "file_extension": ".py",
   "mimetype": "text/x-python",
   "name": "python",
   "nbconvert_exporter": "python",
   "pygments_lexer": "ipython3",
   "version": "3.12.0"
  }
 },
 "nbformat": 4,
 "nbformat_minor": 5
}
